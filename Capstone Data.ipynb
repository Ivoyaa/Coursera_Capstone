{
 "cells": [
  {
   "cell_type": "code",
   "execution_count": 2,
   "metadata": {},
   "outputs": [],
   "source": [
    "import pandas as pd\n",
    "import folium\n",
    "import requests"
   ]
  },
  {
   "cell_type": "code",
   "execution_count": 34,
   "metadata": {},
   "outputs": [],
   "source": [
    "# @hidden_cell\n",
    "CLIENT_ID = 'AMJZEBWPL41RAG3DM0DOLWY0YRCQMU0ZU4AVPQGXOTG433Y5'\n",
    "CLIENT_SECRET = 'IJWJ4ZMZK5HXF10FJHBAWPOGVBL21EGCMT3MV3JFTDNF3MQA'\n",
    "version = '20200711'\n",
    "radius = 15000\n",
    "limit = 50\n",
    "adress = 'Langepas, Russia'"
   ]
  },
  {
   "cell_type": "markdown",
   "metadata": {},
   "source": [
    "### As we will see soon, the number of venues is not that big, so the \"coffee\" and \"cafe\" catgories will be merged."
   ]
  },
  {
   "cell_type": "code",
   "execution_count": 35,
   "metadata": {},
   "outputs": [],
   "source": [
    "request_parameters = {\n",
    "    \"client_id\": CLIENT_ID,\n",
    "    \"client_secret\": CLIENT_SECRET,\n",
    "    \"v\": version,\n",
    "    \"section\": \"coffee\",\n",
    "    \"near\": adress,\n",
    "    \"radius\": radius,\n",
    "    \"limit\": limit}\n",
    "\n",
    "data1 = requests.get(\"https://api.foursquare.com/v2/venues/explore\", params=request_parameters)\n",
    "coffee = data1.json()[\"response\"]"
   ]
  },
  {
   "cell_type": "code",
   "execution_count": 36,
   "metadata": {},
   "outputs": [],
   "source": [
    "request_parameters = {\n",
    "    \"client_id\": CLIENT_ID,\n",
    "    \"client_secret\": CLIENT_SECRET,\n",
    "    \"v\": version,\n",
    "    \"section\": \"cafe\",\n",
    "    \"near\": adress,\n",
    "    \"radius\": radius,\n",
    "    \"limit\": limit}\n",
    "\n",
    "data2 = requests.get(\"https://api.foursquare.com/v2/venues/explore\", params=request_parameters)\n",
    "cafe = data2.json()[\"response\"]"
   ]
  },
  {
   "cell_type": "code",
   "execution_count": 37,
   "metadata": {},
   "outputs": [],
   "source": [
    "request_parameters = {\n",
    "    \"client_id\": CLIENT_ID,\n",
    "    \"client_secret\": CLIENT_SECRET,\n",
    "    \"v\": version,\n",
    "    \"section\": \"breakfast\",\n",
    "    \"near\": adress,\n",
    "    \"radius\": radius,\n",
    "    \"limit\": limit}\n",
    "\n",
    "data3 = requests.get(\"https://api.foursquare.com/v2/venues/explore\", params=request_parameters)\n",
    "breakfast = data3.json()[\"response\"]"
   ]
  },
  {
   "cell_type": "markdown",
   "metadata": {},
   "source": [
    "Let's explore the provided information."
   ]
  },
  {
   "cell_type": "code",
   "execution_count": 28,
   "metadata": {},
   "outputs": [
    {
     "data": {
      "text/plain": [
       "dict_keys(['geocode', 'headerLocation', 'headerFullLocation', 'headerLocationGranularity', 'totalResults', 'suggestedBounds', 'groups'])"
      ]
     },
     "execution_count": 28,
     "metadata": {},
     "output_type": "execute_result"
    }
   ],
   "source": [
    "breakfast.keys()"
   ]
  },
  {
   "cell_type": "markdown",
   "metadata": {},
   "source": [
    "The next keys contain only general information, so will not be further used."
   ]
  },
  {
   "cell_type": "code",
   "execution_count": 17,
   "metadata": {},
   "outputs": [
    {
     "data": {
      "text/plain": [
       "('city', 'Langepas', 'Langepas')"
      ]
     },
     "execution_count": 17,
     "metadata": {},
     "output_type": "execute_result"
    }
   ],
   "source": [
    "cafe[\"headerLocationGranularity\"], cafe[\"headerLocation\"], cafe[\"headerFullLocation\"]"
   ]
  },
  {
   "cell_type": "markdown",
   "metadata": {},
   "source": [
    "Numbers of results:"
   ]
  },
  {
   "cell_type": "code",
   "execution_count": 39,
   "metadata": {},
   "outputs": [
    {
     "data": {
      "text/plain": [
       "(4, 6)"
      ]
     },
     "execution_count": 39,
     "metadata": {},
     "output_type": "execute_result"
    }
   ],
   "source": [
    "cafe[\"totalResults\"], coffee[\"totalResults\"]"
   ]
  },
  {
   "cell_type": "markdown",
   "metadata": {},
   "source": [
    "Center of the city:"
   ]
  },
  {
   "cell_type": "code",
   "execution_count": 45,
   "metadata": {},
   "outputs": [
    {
     "data": {
      "text/plain": [
       "{'lat': 61.25439, 'lng': 75.2124}"
      ]
     },
     "execution_count": 45,
     "metadata": {},
     "output_type": "execute_result"
    }
   ],
   "source": [
    "center = cafe[\"geocode\"][\"center\"]\n",
    "center"
   ]
  },
  {
   "cell_type": "code",
   "execution_count": 55,
   "metadata": {},
   "outputs": [
    {
     "data": {
      "text/plain": [
       "[{'reasons': {'count': 0,\n",
       "   'items': [{'summary': 'This spot is popular',\n",
       "     'type': 'general',\n",
       "     'reasonName': 'globalInteractionReason'}]},\n",
       "  'venue': {'id': '4f2ceec7e4b040eafeb39112',\n",
       "   'name': 'Cherry',\n",
       "   'location': {'address': 'ул. Мира 32',\n",
       "    'crossStreet': 'ул. Мира - Комсомольская',\n",
       "    'lat': 61.25335255218684,\n",
       "    'lng': 75.19135446336195,\n",
       "    'labeledLatLngs': [{'label': 'display',\n",
       "      'lat': 61.25335255218684,\n",
       "      'lng': 75.19135446336195}],\n",
       "    'postalCode': '628672',\n",
       "    'cc': 'RU',\n",
       "    'city': 'Лангепас',\n",
       "    'state': 'ХМАО-Югра',\n",
       "    'country': 'Россия',\n",
       "    'formattedAddress': ['ул. Мира 32 (ул. Мира - Комсомольская)',\n",
       "     '628672, Лангепас',\n",
       "     'Россия']},\n",
       "   'categories': [{'id': '4bf58dd8d48988d109941735',\n",
       "     'name': 'Eastern European Restaurant',\n",
       "     'pluralName': 'Eastern European Restaurants',\n",
       "     'shortName': 'Eastern European',\n",
       "     'icon': {'prefix': 'https://ss3.4sqi.net/img/categories_v2/food/default_',\n",
       "      'suffix': '.png'},\n",
       "     'primary': True}],\n",
       "   'photos': {'count': 0, 'groups': []},\n",
       "   'venuePage': {'id': '75707519'}},\n",
       "  'referralId': 'e-0-4f2ceec7e4b040eafeb39112-0'},\n",
       " {'reasons': {'count': 0,\n",
       "   'items': [{'summary': 'This spot is popular',\n",
       "     'type': 'general',\n",
       "     'reasonName': 'globalInteractionReason'}]},\n",
       "  'venue': {'id': '500784b2c84c614d5a6f1f73',\n",
       "   'name': 'Олимпия',\n",
       "   'location': {'address': 'Солнечная',\n",
       "    'lat': 61.25591281588397,\n",
       "    'lng': 75.18033383739386,\n",
       "    'labeledLatLngs': [{'label': 'display',\n",
       "      'lat': 61.25591281588397,\n",
       "      'lng': 75.18033383739386}],\n",
       "    'cc': 'RU',\n",
       "    'city': 'Лангепас',\n",
       "    'state': 'Ханты-Мансийский АО - Югра',\n",
       "    'country': 'Россия',\n",
       "    'formattedAddress': ['Солнечная', 'Лангепас', 'Россия']},\n",
       "   'categories': [{'id': '4bf58dd8d48988d1fa931735',\n",
       "     'name': 'Hotel',\n",
       "     'pluralName': 'Hotels',\n",
       "     'shortName': 'Hotel',\n",
       "     'icon': {'prefix': 'https://ss3.4sqi.net/img/categories_v2/travel/hotel_',\n",
       "      'suffix': '.png'},\n",
       "     'primary': True}],\n",
       "   'photos': {'count': 0, 'groups': []}},\n",
       "  'referralId': 'e-0-500784b2c84c614d5a6f1f73-1'},\n",
       " {'reasons': {'count': 0,\n",
       "   'items': [{'summary': 'This spot is popular',\n",
       "     'type': 'general',\n",
       "     'reasonName': 'globalInteractionReason'}]},\n",
       "  'venue': {'id': '50fbad05e4b0396365f45535',\n",
       "   'name': 'Ж/Д станция Лангепасовский',\n",
       "   'location': {'lat': 61.275137705519626,\n",
       "    'lng': 75.22018921941196,\n",
       "    'labeledLatLngs': [{'label': 'display',\n",
       "      'lat': 61.275137705519626,\n",
       "      'lng': 75.22018921941196}],\n",
       "    'postalCode': '628672',\n",
       "    'cc': 'RU',\n",
       "    'city': 'Лангепас',\n",
       "    'state': 'Ханты-Мансийский АО - Югра',\n",
       "    'country': 'Россия',\n",
       "    'formattedAddress': ['628672, Лангепас', 'Россия']},\n",
       "   'categories': [{'id': '4bf58dd8d48988d129951735',\n",
       "     'name': 'Train Station',\n",
       "     'pluralName': 'Train Stations',\n",
       "     'shortName': 'Train Station',\n",
       "     'icon': {'prefix': 'https://ss3.4sqi.net/img/categories_v2/travel/trainstation_',\n",
       "      'suffix': '.png'},\n",
       "     'primary': True}],\n",
       "   'photos': {'count': 0, 'groups': []}},\n",
       "  'referralId': 'e-0-50fbad05e4b0396365f45535-2'},\n",
       " {'reasons': {'count': 0,\n",
       "   'items': [{'summary': 'This spot is popular',\n",
       "     'type': 'general',\n",
       "     'reasonName': 'globalInteractionReason'}]},\n",
       "  'venue': {'id': '505ab903e4b0279819cd48db',\n",
       "   'name': 'ЖД Вокзал',\n",
       "   'location': {'lat': 61.275469527526,\n",
       "    'lng': 75.21967706157017,\n",
       "    'labeledLatLngs': [{'label': 'display',\n",
       "      'lat': 61.275469527526,\n",
       "      'lng': 75.21967706157017}],\n",
       "    'cc': 'RU',\n",
       "    'country': 'Россия',\n",
       "    'formattedAddress': ['Россия']},\n",
       "   'categories': [{'id': '4f4531504b9074f6e4fb0102',\n",
       "     'name': 'Platform',\n",
       "     'pluralName': 'Platforms',\n",
       "     'shortName': 'Platform',\n",
       "     'icon': {'prefix': 'https://ss3.4sqi.net/img/categories_v2/travel/trainstation_',\n",
       "      'suffix': '.png'},\n",
       "     'primary': True}],\n",
       "   'photos': {'count': 0, 'groups': []}},\n",
       "  'referralId': 'e-0-505ab903e4b0279819cd48db-3'}]"
      ]
     },
     "execution_count": 55,
     "metadata": {},
     "output_type": "execute_result"
    }
   ],
   "source": [
    "cafe[\"groups\"][0][\"items\"]"
   ]
  },
  {
   "cell_type": "code",
   "execution_count": null,
   "metadata": {},
   "outputs": [],
   "source": []
  }
 ],
 "metadata": {
  "kernelspec": {
   "display_name": "Python 3",
   "language": "python",
   "name": "python3"
  },
  "language_info": {
   "codemirror_mode": {
    "name": "ipython",
    "version": 3
   },
   "file_extension": ".py",
   "mimetype": "text/x-python",
   "name": "python",
   "nbconvert_exporter": "python",
   "pygments_lexer": "ipython3",
   "version": "3.7.3"
  }
 },
 "nbformat": 4,
 "nbformat_minor": 4
}
